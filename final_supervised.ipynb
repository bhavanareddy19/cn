{
 "cells": [
  {
   "cell_type": "code",
   "execution_count": 1,
   "metadata": {},
   "outputs": [],
   "source": [
    "import pandas as pd\n",
    "df = pd.read_csv('C:/CUB/sem2/ml/proj/CN_Dataset/cleaned_data.csv')\n"
   ]
  },
  {
   "cell_type": "code",
   "execution_count": 2,
   "metadata": {},
   "outputs": [
    {
     "name": "stdout",
     "output_type": "stream",
     "text": [
      "SuggestedJobRole                       category\n",
      "keywords                               category\n",
      "Logical quotient rating                   int64\n",
      "hackathons                                int64\n",
      "coding skills rating                      int64\n",
      "public speaking points                    int64\n",
      "self-learning capability?                object\n",
      "Extra-courses did                        object\n",
      "certifications                         category\n",
      "workshops                              category\n",
      "reading and writing skills             category\n",
      "memory capability score                category\n",
      "Interested subjects                    category\n",
      "interested career area                 category\n",
      "Type of company want to settle in?     category\n",
      "Taken inputs from seniors or elders      object\n",
      "Interested Type of Books               category\n",
      "Management or Technical                category\n",
      "hard/smart worker                      category\n",
      "worked in teams ever?                    object\n",
      "Introvert                                object\n",
      "dtype: object\n"
     ]
    }
   ],
   "source": [
    "columns_to_convert = [\n",
    "    'SuggestedJobRole', 'keywords', 'workshops', 'reading and writing skills', 'memory capability score','certifications',\n",
    "    'Interested subjects', 'interested career area ', 'Type of company want to settle in?', 'Interested Type of Books', 'Management or Technical',\n",
    "    'hard/smart worker'\n",
    "]\n",
    "\n",
    "# Convert columns to category dtype\n",
    "for column in columns_to_convert:\n",
    "    df[column] = df[column].astype('category')\n",
    "\n",
    "# Check the new data types\n",
    "print(df.dtypes)    "
   ]
  },
  {
   "cell_type": "code",
   "execution_count": 3,
   "metadata": {},
   "outputs": [],
   "source": [
    "import pandas as pd\n",
    "from sklearn.model_selection import train_test_split\n",
    "from sklearn.preprocessing import LabelEncoder\n",
    "from sklearn.naive_bayes import MultinomialNB, BernoulliNB, CategoricalNB\n",
    "from sklearn.metrics import accuracy_score, confusion_matrix\n",
    "import matplotlib.pyplot as plt\n",
    "\n",
    "\n",
    "le = LabelEncoder()\n",
    "df['SuggestedJobRole'] = le.fit_transform(df['SuggestedJobRole'])\n"
   ]
  },
  {
   "cell_type": "code",
   "execution_count": 4,
   "metadata": {},
   "outputs": [
    {
     "name": "stdout",
     "output_type": "stream",
     "text": [
      "      self-learning capability?  Extra-courses did  \\\n",
      "0                             0                  1   \n",
      "1                             0                  1   \n",
      "2                             1                  1   \n",
      "3                             1                  1   \n",
      "4                             1                  0   \n",
      "...                         ...                ...   \n",
      "9995                          0                  0   \n",
      "9996                          0                  0   \n",
      "9997                          0                  0   \n",
      "9998                          0                  0   \n",
      "9999                          0                  0   \n",
      "\n",
      "      Taken inputs from seniors or elders  worked in teams ever?  Introvert  \n",
      "0                                       0                      0          1  \n",
      "1                                       0                      0          1  \n",
      "2                                       0                      0          1  \n",
      "3                                       1                      0          1  \n",
      "4                                       0                      1          1  \n",
      "...                                   ...                    ...        ...  \n",
      "9995                                    0                      0          1  \n",
      "9996                                    0                      1          0  \n",
      "9997                                    1                      0          1  \n",
      "9998                                    1                      0          0  \n",
      "9999                                    0                      0          1  \n",
      "\n",
      "[10000 rows x 5 columns]\n"
     ]
    }
   ],
   "source": [
    "# Features for Multinomial Naive Bayes\n",
    "features_multinomial = ['Logical quotient rating', 'hackathons', 'coding skills rating', 'public speaking points']\n",
    "X_multinomial = df[features_multinomial]\n",
    "y = df['SuggestedJobRole']\n",
    "\n",
    "# Split the data for Multinomial Naive Bayes\n",
    "X_train_mn, X_test_mn, y_train, y_test = train_test_split(X_multinomial, y, test_size=0.2, random_state=42)\n",
    "\n",
    "# Features for Bernoulli Naive Bayes\n",
    "features_bernoulli = ['self-learning capability?', 'Extra-courses did', 'Taken inputs from seniors or elders', 'worked in teams ever?', 'Introvert']\n",
    "df[features_bernoulli] = df[features_bernoulli].apply(lambda x: x.map({'yes': 1, 'no': 0}))\n",
    "X_bernoulli = df[features_bernoulli]\n",
    "print(X_bernoulli)\n",
    "\n",
    "# Split the data for Bernoulli Naive Bayes\n",
    "X_train_bn, X_test_bn, y_train_bn, y_test_bn = train_test_split(X_bernoulli, y, test_size=0.2, random_state=42)\n",
    "\n",
    "# Features for Categorical Naive Bayes\n",
    "categorical_columns = df.select_dtypes(include=['category']).columns.tolist()\n",
    "# categorical_columns.remove('SuggestedJobRole')\n",
    "X_categorical = df[categorical_columns]\n",
    "\n",
    "# Encode categorical features\n",
    "X_categorical = X_categorical.apply(lambda col: LabelEncoder().fit_transform(col))\n",
    "X_train_cat, X_test_cat, y_train_cat, y_test_cat = train_test_split(X_categorical, y, test_size=0.2, random_state=42)\n"
   ]
  },
  {
   "cell_type": "code",
   "execution_count": 5,
   "metadata": {},
   "outputs": [],
   "source": [
    "# Multinomial Naive Bayes\n",
    "model_mn = MultinomialNB()\n",
    "model_mn.fit(X_train_mn, y_train)\n",
    "predictions_mn = model_mn.predict(X_test_mn)\n",
    "accuracy_mn = accuracy_score(y_test, predictions_mn)\n",
    "\n",
    "# Bernoulli Naive Bayes\n",
    "model_bn = BernoulliNB()\n",
    "model_bn.fit(X_train_bn, y_train_bn)\n",
    "predictions_bn = model_bn.predict(X_test_bn)\n",
    "accuracy_bn = accuracy_score(y_test_bn, predictions_bn)\n",
    "\n",
    "# Categorical Naive Bayes\n",
    "model_cat = CategoricalNB()\n",
    "model_cat.fit(X_train_cat, y_train_cat)\n",
    "predictions_cat = model_cat.predict(X_test_cat)\n",
    "accuracy_cat = accuracy_score(y_test_cat, predictions_cat)\n"
   ]
  },
  {
   "cell_type": "code",
   "execution_count": 6,
   "metadata": {},
   "outputs": [
    {
     "name": "stdout",
     "output_type": "stream",
     "text": [
      "Accuracy of Multinomial Naive Bayes: 0.2325\n",
      "Accuracy of Bernoulli Naive Bayes: 0.226\n",
      "Accuracy of Categorical Naive Bayes: 0.6175\n"
     ]
    },
    {
     "data": {
      "image/png": "[encoded data removed]",
      "text/plain": [
       "<Figure size 1800x600 with 3 Axes>"
      ]
     },
     "metadata": {},
     "output_type": "display_data"
    }
   ],
   "source": [
    "# Print accuracies\n",
    "print(f\"Accuracy of Multinomial Naive Bayes: {accuracy_mn}\")\n",
    "print(f\"Accuracy of Bernoulli Naive Bayes: {accuracy_bn}\")\n",
    "print(f\"Accuracy of Categorical Naive Bayes: {accuracy_cat}\")\n",
    "\n",
    "# Confusion matrices\n",
    "fig, ax = plt.subplots(1, 3, figsize=(18, 6))\n",
    "ax[0].matshow(confusion_matrix(y_test, predictions_mn), cmap='coolwarm', alpha=0.6)\n",
    "ax[0].set_title('Multinomial NB Confusion Matrix')\n",
    "ax[1].matshow(confusion_matrix(y_test_bn, predictions_bn), cmap='coolwarm', alpha=0.6)\n",
    "ax[1].set_title('Bernoulli NB Confusion Matrix')\n",
    "ax[2].matshow(confusion_matrix(y_test_cat, predictions_cat), cmap='coolwarm', alpha=0.6)\n",
    "ax[2].set_title('Categorical NB Confusion Matrix')\n",
    "plt.show()\n"
   ]
  },
  {
   "cell_type": "code",
   "execution_count": null,
   "metadata": {},
   "outputs": [],
   "source": []
  }
 ],
 "metadata": {
  "kernelspec": {
   "display_name": "base",
   "language": "python",
   "name": "python3"
  },
  "language_info": {
   "codemirror_mode": {
    "name": "ipython",
    "version": 3
   },
   "file_extension": ".py",
   "mimetype": "text/x-python",
   "name": "python",
   "nbconvert_exporter": "python",
   "pygments_lexer": "ipython3",
   "version": "3.12.7"
  }
 },
 "nbformat": 4,
 "nbformat_minor": 2
}
