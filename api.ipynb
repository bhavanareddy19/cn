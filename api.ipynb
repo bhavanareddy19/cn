{
 "cells": [
  {
   "cell_type": "markdown",
   "metadata": {},
   "source": [
    "## data collection for software devloper row using api\n"
   ]
  },
  {
   "cell_type": "code",
   "execution_count": 9,
   "metadata": {},
   "outputs": [
    {
     "name": "stdout",
     "output_type": "stream",
     "text": [
      "Requirement already satisfied: apify-client in c:\\users\\vbhav\\anaconda3\\lib\\site-packages (1.8.1)\n",
      "Requirement already satisfied: apify-shared>=1.1.2 in c:\\users\\vbhav\\anaconda3\\lib\\site-packages (from apify-client) (1.2.1)\n",
      "Requirement already satisfied: httpx>=0.25.0 in c:\\users\\vbhav\\anaconda3\\lib\\site-packages (from apify-client) (0.27.0)\n",
      "Requirement already satisfied: more_itertools>=10.0.0 in c:\\users\\vbhav\\anaconda3\\lib\\site-packages (from apify-client) (10.3.0)\n",
      "Requirement already satisfied: anyio in c:\\users\\vbhav\\anaconda3\\lib\\site-packages (from httpx>=0.25.0->apify-client) (4.2.0)\n",
      "Requirement already satisfied: certifi in c:\\users\\vbhav\\anaconda3\\lib\\site-packages (from httpx>=0.25.0->apify-client) (2024.12.14)\n",
      "Requirement already satisfied: httpcore==1.* in c:\\users\\vbhav\\anaconda3\\lib\\site-packages (from httpx>=0.25.0->apify-client) (1.0.2)\n",
      "Requirement already satisfied: idna in c:\\users\\vbhav\\anaconda3\\lib\\site-packages (from httpx>=0.25.0->apify-client) (3.7)\n",
      "Requirement already satisfied: sniffio in c:\\users\\vbhav\\anaconda3\\lib\\site-packages (from httpx>=0.25.0->apify-client) (1.3.0)\n",
      "Requirement already satisfied: h11<0.15,>=0.13 in c:\\users\\vbhav\\anaconda3\\lib\\site-packages (from httpcore==1.*->httpx>=0.25.0->apify-client) (0.14.0)\n"
     ]
    }
   ],
   "source": [
    "! pip install apify-client"
   ]
  },
  {
   "cell_type": "code",
   "execution_count": 10,
   "metadata": {
    "notebookRunGroups": {
     "groupValue": "1"
    }
   },
   "outputs": [
    {
     "name": "stdout",
     "output_type": "stream",
     "text": [
      "Successfully saved 260 job listings to C://CUB//sem2//ml//proj//cn//datasets//job_listings_SD.csv\n"
     ]
    }
   ],
   "source": [
    "from apify_client import ApifyClient\n",
    "import csv\n",
    "\n",
    "# Initialize the ApifyClient with your API token\n",
    "client = ApifyClient(\"apify_api_idJVhUenaiyNjqMU7nYPsf3x0i2AQb3dfX2I\")\n",
    "\n",
    "# Run the Actor task and wait for it to finish\n",
    "run = client.task(\"vFmcQGQ7TRCTyiBm1\").call()\n",
    "\n",
    "# Prepare CSV file path\n",
    "csv_file = r'C://CUB//sem2//ml//proj//cn//datasets//job_listings_SD.csv'  # Note the 'r' before the string to handle backslashes correctly\n",
    "fieldnames = set()\n",
    "\n",
    "# Collect all items and process them\n",
    "all_items = []\n",
    "for item in client.dataset(run[\"defaultDatasetId\"]).iterate_items():\n",
    "    # Flatten company information\n",
    "    company = item.pop('company', {})\n",
    "    for key, value in company.items():\n",
    "        if isinstance(value, list):\n",
    "            value = '; '.join(value)\n",
    "        item[f'company_{key}'] = value\n",
    "    \n",
    "    # Convert list fields to strings\n",
    "    for field in ['benefits', 'requirements', 'locations']:\n",
    "        if field in item and isinstance(item[field], list):\n",
    "            item[field] = '; '.join(item[field])\n",
    "    \n",
    "    # Update fieldnames\n",
    "    fieldnames.update(item.keys())\n",
    "    all_items.append(item)\n",
    "\n",
    "# Sort fieldnames for consistent column order\n",
    "fieldnames = sorted(fieldnames)\n",
    "\n",
    "# Write to CSV\n",
    "with open(csv_file, 'w', newline='', encoding='utf-8') as f:\n",
    "    writer = csv.DictWriter(f, fieldnames=fieldnames)\n",
    "    writer.writeheader()\n",
    "    writer.writerows(all_items)\n",
    "\n",
    "print(f'Successfully saved {len(all_items)} job listings to {csv_file}')\n"
   ]
  },
  {
   "cell_type": "markdown",
   "metadata": {},
   "source": [
    "## Data collection for Software Developer using api"
   ]
  },
  {
   "cell_type": "code",
   "execution_count": 11,
   "metadata": {},
   "outputs": [
    {
     "name": "stdout",
     "output_type": "stream",
     "text": [
      "Successfully saved 260 job listings to C://CUB//sem2//ml//proj//cn//datasets//job_listings_SD.csv\n"
     ]
    }
   ],
   "source": [
    "from apify_client import ApifyClient\n",
    "import csv\n",
    "\n",
    "# Initialize the ApifyClient with your API token\n",
    "client = ApifyClient(\"apify_api_idJVhUenaiyNjqMU7nYPsf3x0i2AQb3dfX2I\")\n",
    "\n",
    "# Run the Actor task and wait for it to finish\n",
    "run = client.task(\"vFmcQGQ7TRCTyiBm1\").call()\n",
    "\n",
    "# Prepare CSV file path\n",
    "csv_file = r'C://CUB//sem2//ml//proj//cn//datasets//job_listings_SD.csv'  # Note the 'r' before the string to handle backslashes correctly\n",
    "fieldnames = set()\n",
    "\n",
    "# Collect all items and process them\n",
    "all_items = []\n",
    "for item in client.dataset(run[\"defaultDatasetId\"]).iterate_items():\n",
    "    # Flatten company information\n",
    "    company = item.pop('company', {})\n",
    "    for key, value in company.items():\n",
    "        if isinstance(value, list):\n",
    "            value = '; '.join(value)\n",
    "        item[f'company_{key}'] = value\n",
    "    \n",
    "    # Convert list fields to strings\n",
    "    for field in ['benefits', 'requirements', 'locations']:\n",
    "        if field in item and isinstance(item[field], list):\n",
    "            item[field] = '; '.join(item[field])\n",
    "    \n",
    "    # Update fieldnames\n",
    "    fieldnames.update(item.keys())\n",
    "    all_items.append(item)\n",
    "\n",
    "# Sort fieldnames for consistent column order\n",
    "fieldnames = sorted(fieldnames)\n",
    "\n",
    "# Write to CSV\n",
    "with open(csv_file, 'w', newline='', encoding='utf-8') as f:\n",
    "    writer = csv.DictWriter(f, fieldnames=fieldnames)\n",
    "    writer.writeheader()\n",
    "    writer.writerows(all_items)\n",
    "\n",
    "print(f'Successfully saved {len(all_items)} job listings to {csv_file}')\n"
   ]
  },
  {
   "cell_type": "markdown",
   "metadata": {},
   "source": [
    "## Data Collection for UX Designer Using API"
   ]
  },
  {
   "cell_type": "code",
   "execution_count": 12,
   "metadata": {},
   "outputs": [
    {
     "name": "stdout",
     "output_type": "stream",
     "text": [
      "Successfully saved 260 job listings to C://CUB//sem2//ml//proj//cn//datasets//job_listings_UX.csv\n"
     ]
    }
   ],
   "source": [
    "from apify_client import ApifyClient\n",
    "import csv\n",
    "\n",
    "# Initialize the ApifyClient with your API token\n",
    "client = ApifyClient(\"apify_api_idJVhUenaiyNjqMU7nYPsf3x0i2AQb3dfX2I\")\n",
    "\n",
    "# Run the Actor task and wait for it to finish\n",
    "run = client.task(\"vFmcQGQ7TRCTyiBm1\").call()\n",
    "\n",
    "# Prepare CSV file path\n",
    "csv_file = r'C://CUB//sem2//ml//proj//cn//datasets//job_listings_UX.csv'  # Note the 'r' before the string to handle backslashes correctly\n",
    "fieldnames = set()\n",
    "\n",
    "# Collect all items and process them\n",
    "all_items = []\n",
    "for item in client.dataset(run[\"defaultDatasetId\"]).iterate_items():\n",
    "    # Flatten company information\n",
    "    company = item.pop('company', {})\n",
    "    for key, value in company.items():\n",
    "        if isinstance(value, list):\n",
    "            value = '; '.join(value)\n",
    "        item[f'company_{key}'] = value\n",
    "    \n",
    "    # Convert list fields to strings\n",
    "    for field in ['benefits', 'requirements', 'locations']:\n",
    "        if field in item and isinstance(item[field], list):\n",
    "            item[field] = '; '.join(item[field])\n",
    "    \n",
    "    # Update fieldnames\n",
    "    fieldnames.update(item.keys())\n",
    "    all_items.append(item)\n",
    "\n",
    "# Sort fieldnames for consistent column order\n",
    "fieldnames = sorted(fieldnames)\n",
    "\n",
    "# Write to CSV\n",
    "with open(csv_file, 'w', newline='', encoding='utf-8') as f:\n",
    "    writer = csv.DictWriter(f, fieldnames=fieldnames)\n",
    "    writer.writeheader()\n",
    "    writer.writerows(all_items)\n",
    "\n",
    "print(f'Successfully saved {len(all_items)} job listings to {csv_file}')\n"
   ]
  },
  {
   "cell_type": "markdown",
   "metadata": {},
   "source": [
    "## Data collection for Applications Developer using api"
   ]
  },
  {
   "cell_type": "code",
   "execution_count": 13,
   "metadata": {},
   "outputs": [
    {
     "name": "stdout",
     "output_type": "stream",
     "text": [
      "Successfully saved 260 job listings to C://CUB//sem2//ml//proj//cn//datasets//job_listings_AD.csv\n"
     ]
    }
   ],
   "source": [
    "from apify_client import ApifyClient\n",
    "import csv\n",
    "\n",
    "# Initialize the ApifyClient with your API token\n",
    "client = ApifyClient(\"apify_api_idJVhUenaiyNjqMU7nYPsf3x0i2AQb3dfX2I\")\n",
    "\n",
    "# Run the Actor task and wait for it to finish\n",
    "run = client.task(\"vFmcQGQ7TRCTyiBm1\").call()\n",
    "\n",
    "# Prepare CSV file path\n",
    "csv_file = r'C://CUB//sem2//ml//proj//cn//datasets//job_listings_AD.csv'  # Note the 'r' before the string to handle backslashes correctly\n",
    "fieldnames = set()\n",
    "\n",
    "# Collect all items and process them\n",
    "all_items = []\n",
    "for item in client.dataset(run[\"defaultDatasetId\"]).iterate_items():\n",
    "    # Flatten company information\n",
    "    company = item.pop('company', {})\n",
    "    for key, value in company.items():\n",
    "        if isinstance(value, list):\n",
    "            value = '; '.join(value)\n",
    "        item[f'company_{key}'] = value\n",
    "    \n",
    "    # Convert list fields to strings\n",
    "    for field in ['benefits', 'requirements', 'locations']:\n",
    "        if field in item and isinstance(item[field], list):\n",
    "            item[field] = '; '.join(item[field])\n",
    "    \n",
    "    # Update fieldnames\n",
    "    fieldnames.update(item.keys())\n",
    "    all_items.append(item)\n",
    "\n",
    "# Sort fieldnames for consistent column order\n",
    "fieldnames = sorted(fieldnames)\n",
    "\n",
    "# Write to CSV\n",
    "with open(csv_file, 'w', newline='', encoding='utf-8') as f:\n",
    "    writer = csv.DictWriter(f, fieldnames=fieldnames)\n",
    "    writer.writeheader()\n",
    "    writer.writerows(all_items)\n",
    "\n",
    "print(f'Successfully saved {len(all_items)} job listings to {csv_file}')\n"
   ]
  },
  {
   "cell_type": "markdown",
   "metadata": {},
   "source": [
    "## Data collection for CRM Technical Developer using API"
   ]
  },
  {
   "cell_type": "code",
   "execution_count": 14,
   "metadata": {},
   "outputs": [
    {
     "name": "stdout",
     "output_type": "stream",
     "text": [
      "Successfully saved 260 job listings to C://CUB//sem2//ml//proj//cn//datasets//job_listings_CTD.csv\n"
     ]
    }
   ],
   "source": [
    "\n",
    "from apify_client import ApifyClient\n",
    "import csv\n",
    "\n",
    "# Initialize the ApifyClient with your API token\n",
    "client = ApifyClient(\"apify_api_idJVhUenaiyNjqMU7nYPsf3x0i2AQb3dfX2I\")\n",
    "\n",
    "# Run the Actor task and wait for it to finish\n",
    "run = client.task(\"vFmcQGQ7TRCTyiBm1\").call()\n",
    "\n",
    "# Prepare CSV file path\n",
    "csv_file = r'C://CUB//sem2//ml//proj//cn//datasets//job_listings_CTD.csv'  # Note the 'r' before the string to handle backslashes correctly\n",
    "fieldnames = set()\n",
    "\n",
    "# Collect all items and process them\n",
    "all_items = []\n",
    "for item in client.dataset(run[\"defaultDatasetId\"]).iterate_items():\n",
    "    # Flatten company information\n",
    "    company = item.pop('company', {})\n",
    "    for key, value in company.items():\n",
    "        if isinstance(value, list):\n",
    "            value = '; '.join(value)\n",
    "        item[f'company_{key}'] = value\n",
    "    \n",
    "    # Convert list fields to strings\n",
    "    for field in ['benefits', 'requirements', 'locations']:\n",
    "        if field in item and isinstance(item[field], list):\n",
    "            item[field] = '; '.join(item[field])\n",
    "    \n",
    "    # Update fieldnames\n",
    "    fieldnames.update(item.keys())\n",
    "    all_items.append(item)\n",
    "\n",
    "# Sort fieldnames for consistent column order\n",
    "fieldnames = sorted(fieldnames)\n",
    "\n",
    "# Write to CSV\n",
    "with open(csv_file, 'w', newline='', encoding='utf-8') as f:\n",
    "    writer = csv.DictWriter(f, fieldnames=fieldnames)\n",
    "    writer.writeheader()\n",
    "    writer.writerows(all_items)\n",
    "\n",
    "print(f'Successfully saved {len(all_items)} job listings to {csv_file}')\n"
   ]
  },
  {
   "cell_type": "markdown",
   "metadata": {},
   "source": [
    "## Data collection for Database Developer using API"
   ]
  },
  {
   "cell_type": "code",
   "execution_count": 16,
   "metadata": {},
   "outputs": [
    {
     "name": "stdout",
     "output_type": "stream",
     "text": [
      "Successfully saved 100 job listings to C://CUB//sem2//ml//proj//cn//datasets//job_listings_DD.csv\n"
     ]
    }
   ],
   "source": [
    "\n",
    "from apify_client import ApifyClient\n",
    "import csv\n",
    "\n",
    "# Initialize the ApifyClient with your API token\n",
    "client = ApifyClient(\"apify_api_idJVhUenaiyNjqMU7nYPsf3x0i2AQb3dfX2I\")\n",
    "\n",
    "# Run the Actor task and wait for it to finish\n",
    "run = client.task(\"vFmcQGQ7TRCTyiBm1\").call()\n",
    "\n",
    "# Prepare CSV file path\n",
    "csv_file = r'C://CUB//sem2//ml//proj//cn//datasets//job_listings_DD.csv'  # Note the 'r' before the string to handle backslashes correctly\n",
    "fieldnames = set()\n",
    "\n",
    "# Collect all items and process them\n",
    "all_items = []\n",
    "for item in client.dataset(run[\"defaultDatasetId\"]).iterate_items():\n",
    "    # Flatten company information\n",
    "    company = item.pop('company', {})\n",
    "    for key, value in company.items():\n",
    "        if isinstance(value, list):\n",
    "            value = '; '.join(value)\n",
    "        item[f'company_{key}'] = value\n",
    "    \n",
    "    # Convert list fields to strings\n",
    "    for field in ['benefits', 'requirements', 'locations']:\n",
    "        if field in item and isinstance(item[field], list):\n",
    "            item[field] = '; '.join(item[field])\n",
    "    \n",
    "    # Update fieldnames\n",
    "    fieldnames.update(item.keys())\n",
    "    all_items.append(item)\n",
    "\n",
    "# Sort fieldnames for consistent column order\n",
    "fieldnames = sorted(fieldnames)\n",
    "\n",
    "# Write to CSV\n",
    "with open(csv_file, 'w', newline='', encoding='utf-8') as f:\n",
    "    writer = csv.DictWriter(f, fieldnames=fieldnames)\n",
    "    writer.writeheader()\n",
    "    writer.writerows(all_items)\n",
    "\n",
    "print(f'Successfully saved {len(all_items)} job listings to {csv_file}')\n"
   ]
  },
  {
   "cell_type": "markdown",
   "metadata": {},
   "source": [
    "## Data collection for Mobile Applications Developer using API\n"
   ]
  },
  {
   "cell_type": "code",
   "execution_count": 17,
   "metadata": {},
   "outputs": [
    {
     "name": "stdout",
     "output_type": "stream",
     "text": [
      "Successfully saved 15 job listings to C://CUB//sem2//ml//proj//cn//datasets//job_listings_MAD.csv\n"
     ]
    }
   ],
   "source": [
    "\n",
    "from apify_client import ApifyClient\n",
    "import csv\n",
    "\n",
    "# Initialize the ApifyClient with your API token\n",
    "client = ApifyClient(\"apify_api_idJVhUenaiyNjqMU7nYPsf3x0i2AQb3dfX2I\")\n",
    "\n",
    "# Run the Actor task and wait for it to finish\n",
    "run = client.task(\"vFmcQGQ7TRCTyiBm1\").call()\n",
    "\n",
    "# Prepare CSV file path\n",
    "csv_file = r'C://CUB//sem2//ml//proj//cn//datasets//job_listings_MAD.csv'  # Note the 'r' before the string to handle backslashes correctly\n",
    "fieldnames = set()\n",
    "\n",
    "# Collect all items and process them\n",
    "all_items = []\n",
    "for item in client.dataset(run[\"defaultDatasetId\"]).iterate_items():\n",
    "    # Flatten company information\n",
    "    company = item.pop('company', {})\n",
    "    for key, value in company.items():\n",
    "        if isinstance(value, list):\n",
    "            value = '; '.join(value)\n",
    "        item[f'company_{key}'] = value\n",
    "    \n",
    "    # Convert list fields to strings\n",
    "    for field in ['benefits', 'requirements', 'locations']:\n",
    "        if field in item and isinstance(item[field], list):\n",
    "            item[field] = '; '.join(item[field])\n",
    "    \n",
    "    # Update fieldnames\n",
    "    fieldnames.update(item.keys())\n",
    "    all_items.append(item)\n",
    "\n",
    "# Sort fieldnames for consistent column order\n",
    "fieldnames = sorted(fieldnames)\n",
    "\n",
    "# Write to CSV\n",
    "with open(csv_file, 'w', newline='', encoding='utf-8') as f:\n",
    "    writer = csv.DictWriter(f, fieldnames=fieldnames)\n",
    "    writer.writeheader()\n",
    "    writer.writerows(all_items)\n",
    "\n",
    "print(f'Successfully saved {len(all_items)} job listings to {csv_file}')\n"
   ]
  },
  {
   "cell_type": "code",
   "execution_count": 18,
   "metadata": {},
   "outputs": [
    {
     "name": "stdout",
     "output_type": "stream",
     "text": [
      "Successfully saved 120 job listings to C://CUB//sem2//ml//proj//cn//datasets//job_listings_SE_NSE.csv\n"
     ]
    }
   ],
   "source": [
    "\n",
    "from apify_client import ApifyClient\n",
    "import csv\n",
    "\n",
    "# Initialize the ApifyClient with your API token\n",
    "client = ApifyClient(\"apify_api_idJVhUenaiyNjqMU7nYPsf3x0i2AQb3dfX2I\")\n",
    "\n",
    "# Run the Actor task and wait for it to finish\n",
    "run = client.task(\"vFmcQGQ7TRCTyiBm1\").call()\n",
    "\n",
    "# Prepare CSV file path\n",
    "csv_file = r'C://CUB//sem2//ml//proj//cn//datasets//job_listings_SE_NSE.csv'  # Note the 'r' before the string to handle backslashes correctly\n",
    "fieldnames = set()\n",
    "\n",
    "# Collect all items and process them\n",
    "all_items = []\n",
    "for item in client.dataset(run[\"defaultDatasetId\"]).iterate_items():\n",
    "    # Flatten company information\n",
    "    company = item.pop('company', {})\n",
    "    for key, value in company.items():\n",
    "        if isinstance(value, list):\n",
    "            value = '; '.join(value)\n",
    "        item[f'company_{key}'] = value\n",
    "    \n",
    "    # Convert list fields to strings\n",
    "    for field in ['benefits', 'requirements', 'locations']:\n",
    "        if field in item and isinstance(item[field], list):\n",
    "            item[field] = '; '.join(item[field])\n",
    "    \n",
    "    # Update fieldnames\n",
    "    fieldnames.update(item.keys())\n",
    "    all_items.append(item)\n",
    "\n",
    "# Sort fieldnames for consistent column order\n",
    "fieldnames = sorted(fieldnames)\n",
    "\n",
    "# Write to CSV\n",
    "with open(csv_file, 'w', newline='', encoding='utf-8') as f:\n",
    "    writer = csv.DictWriter(f, fieldnames=fieldnames)\n",
    "    writer.writeheader()\n",
    "    writer.writerows(all_items)\n",
    "\n",
    "print(f'Successfully saved {len(all_items)} job listings to {csv_file}')\n"
   ]
  },
  {
   "cell_type": "code",
   "execution_count": null,
   "metadata": {},
   "outputs": [],
   "source": []
  }
 ],
 "metadata": {
  "kernelspec": {
   "display_name": "base",
   "language": "python",
   "name": "python3"
  },
  "language_info": {
   "codemirror_mode": {
    "name": "ipython",
    "version": 3
   },
   "file_extension": ".py",
   "mimetype": "text/x-python",
   "name": "python",
   "nbconvert_exporter": "python",
   "pygments_lexer": "ipython3",
   "version": "3.12.7"
  }
 },
 "nbformat": 4,
 "nbformat_minor": 2
}
