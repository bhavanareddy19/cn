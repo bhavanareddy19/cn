{
 "cells": [
  {
   "cell_type": "code",
   "execution_count": 2,
   "metadata": {},
   "outputs": [
    {
     "name": "stdout",
     "output_type": "stream",
     "text": [
      "Collecting kaggle\n",
      "  Downloading kaggle-1.6.17.tar.gz (82 kB)\n",
      "  Preparing metadata (setup.py): started\n",
      "  Preparing metadata (setup.py): finished with status 'done'\n",
      "Requirement already satisfied: six>=1.10 in c:\\users\\vbhav\\anaconda3\\lib\\site-packages (from kaggle) (1.16.0)\n",
      "Requirement already satisfied: certifi>=2023.7.22 in c:\\users\\vbhav\\anaconda3\\lib\\site-packages (from kaggle) (2024.12.14)\n",
      "Requirement already satisfied: python-dateutil in c:\\users\\vbhav\\anaconda3\\lib\\site-packages (from kaggle) (2.9.0.post0)\n",
      "Requirement already satisfied: requests in c:\\users\\vbhav\\anaconda3\\lib\\site-packages (from kaggle) (2.32.3)\n",
      "Requirement already satisfied: tqdm in c:\\users\\vbhav\\anaconda3\\lib\\site-packages (from kaggle) (4.66.5)\n",
      "Requirement already satisfied: python-slugify in c:\\users\\vbhav\\anaconda3\\lib\\site-packages (from kaggle) (5.0.2)\n",
      "Requirement already satisfied: urllib3 in c:\\users\\vbhav\\anaconda3\\lib\\site-packages (from kaggle) (2.2.3)\n",
      "Requirement already satisfied: bleach in c:\\users\\vbhav\\anaconda3\\lib\\site-packages (from kaggle) (4.1.0)\n",
      "Requirement already satisfied: packaging in c:\\users\\vbhav\\anaconda3\\lib\\site-packages (from bleach->kaggle) (24.1)\n",
      "Requirement already satisfied: webencodings in c:\\users\\vbhav\\anaconda3\\lib\\site-packages (from bleach->kaggle) (0.5.1)\n",
      "Requirement already satisfied: text-unidecode>=1.3 in c:\\users\\vbhav\\anaconda3\\lib\\site-packages (from python-slugify->kaggle) (1.3)\n",
      "Requirement already satisfied: charset-normalizer<4,>=2 in c:\\users\\vbhav\\anaconda3\\lib\\site-packages (from requests->kaggle) (3.3.2)\n",
      "Requirement already satisfied: idna<4,>=2.5 in c:\\users\\vbhav\\anaconda3\\lib\\site-packages (from requests->kaggle) (3.7)\n",
      "Requirement already satisfied: colorama in c:\\users\\vbhav\\anaconda3\\lib\\site-packages (from tqdm->kaggle) (0.4.6)\n",
      "Building wheels for collected packages: kaggle\n",
      "  Building wheel for kaggle (setup.py): started\n",
      "  Building wheel for kaggle (setup.py): finished with status 'done'\n",
      "  Created wheel for kaggle: filename=kaggle-1.6.17-py3-none-any.whl size=105797 sha256=df7632bff0dcd420fd541e68b4f1f1c56a5d69658f4bd2f0a1b1a731a74f5d48\n",
      "  Stored in directory: c:\\users\\vbhav\\appdata\\local\\pip\\cache\\wheels\\46\\d2\\26\\84d0a1acdb9c6baccf7d28cf06962ec80529fe1ad938489983\n",
      "Successfully built kaggle\n",
      "Installing collected packages: kaggle\n",
      "Successfully installed kaggle-1.6.17\n"
     ]
    }
   ],
   "source": [
    "! pip install kaggle"
   ]
  },
  {
   "cell_type": "code",
   "execution_count": 10,
   "metadata": {},
   "outputs": [
    {
     "name": "stderr",
     "output_type": "stream",
     "text": [
      "A subdirectory or file C:\\Users\\vbhav\\.kaggle already exists.\n"
     ]
    }
   ],
   "source": [
    "mkdir %USERPROFILE%\\.kaggle\n"
   ]
  },
  {
   "cell_type": "code",
   "execution_count": 11,
   "metadata": {},
   "outputs": [
    {
     "name": "stdout",
     "output_type": "stream",
     "text": [
      "        1 file(s) copied.\n"
     ]
    }
   ],
   "source": [
    "copy C:\\Users\\vbhav\\Downloads\\kaggle.json C:\\Users\\vbhav\\.kaggle\\kaggle.json\n"
   ]
  },
  {
   "cell_type": "code",
   "execution_count": 12,
   "metadata": {},
   "outputs": [
    {
     "name": "stderr",
     "output_type": "stream",
     "text": [
      "'ls' is not recognized as an internal or external command,\n",
      "operable program or batch file.\n"
     ]
    }
   ],
   "source": [
    "!cd \\Users\\vbhav\\.kaggle\\ && ls"
   ]
  },
  {
   "cell_type": "code",
   "execution_count": 13,
   "metadata": {},
   "outputs": [
    {
     "name": "stdout",
     "output_type": "stream",
     "text": [
      " Volume in drive C is Windows\n",
      " Volume Serial Number is C6B0-84AC\n",
      "\n",
      " Directory of C:\\Users\\vbhav\\.kaggle\n",
      "\n",
      "01/31/2025  09:12 PM    <DIR>          .\n",
      "01/31/2025  08:43 PM    <DIR>          ..\n",
      "01/31/2025  09:08 PM                71 kaggle.json\n",
      "               1 File(s)             71 bytes\n",
      "               2 Dir(s)  923,624,501,248 bytes free\n"
     ]
    }
   ],
   "source": [
    "!cd C:\\Users\\vbhav\\.kaggle\\ && dir\n"
   ]
  },
  {
   "cell_type": "code",
   "execution_count": 19,
   "metadata": {},
   "outputs": [
    {
     "name": "stdout",
     "output_type": "stream",
     "text": [
      "ref                                                         title                                               size  lastUpdated          downloadCount  voteCount  usabilityRating  \n",
      "----------------------------------------------------------  -------------------------------------------------  -----  -------------------  -------------  ---------  ---------------  \n",
      "kerneler/brazilian-bird-observation-metadata-from-wikiaves  brazilian-bird-observation-metadata-from-wikiaves  104MB  2023-02-24 19:17:17            208         23  0.4375           \n",
      "kerneler/saliva-testing-dataset                             Saliva Testing Dataset                               6MB  2022-08-27 12:18:02            500         16  0.75             \n",
      "kerneler/the-tale-of-two-wat-dataset                        The Tale of Two Temple Dataset                     158MB  2022-08-27 12:52:32             45         10  0.75             \n",
      "kerneler/2019-baton-rouge-la-animal-control-calls           (2012-2019) Baton Rouge, LA Animal Control Calls     1MB  2019-11-20 05:29:37            338          6  0.9411765        \n",
      "kerneler/wilayaapi                                          wilayaapi                                           246B  2022-01-23 16:42:56             42          6  0.875            \n",
      "kerneler/15-million-covid19-vaccine-tweets                  800k+ COVID-19 Vaccine Tweets                      152MB  2021-12-31 20:28:38            112          8  0.64705884       \n",
      "kerneler/tensorflow-resnest-regnet-detr-genet               (TensorFlow) - ResNeSt, RegNet, DETR, and GENet     25KB  2021-01-15 21:33:46             40          5  0.8125           \n",
      "kerneler/ddsmbcfp                                           xxxxxx                                             244KB  2022-03-25 17:43:31             22          4  0.625            \n",
      "kerneler/hr-employee-dataset-1                              Not Available                                       159B  2022-08-09 10:09:00            294         10  0.4375           \n",
      "kerneler/dzuniv                                             univ-data                                           245B  2022-01-23 20:42:53             41          3  0.75             \n",
      "kerneler/the-covid19-conspiracy-theories-dataset            The Covid-19 Conspiracy Theories Dataset           364MB  2022-01-14 15:03:37             37          5  0.29411766       \n",
      "kerneler/timeseries                                         TimeSeries                                           7KB  2022-07-17 12:52:35             26          2  0.1764706        \n",
      "kerneler/tacotron2                                          Tacotron2                                           32KB  2023-02-24 19:13:21              8          1  0.0              \n"
     ]
    }
   ],
   "source": [
    "!kaggle datasets list -s \"Kaggle Kerneler\"\n"
   ]
  },
  {
   "cell_type": "code",
   "execution_count": 18,
   "metadata": {},
   "outputs": [
    {
     "name": "stdout",
     "output_type": "stream",
     "text": [
      "Source code downloaded to c:\\CUB\\sem2\\ml\\proj\\cn\\student-placement-data.ipynb\n"
     ]
    }
   ],
   "source": [
    "! kaggle kernels pull yuvjeetarora/student-placement-data"
   ]
  },
  {
   "cell_type": "code",
   "execution_count": 21,
   "metadata": {},
   "outputs": [
    {
     "name": "stdout",
     "output_type": "stream",
     "text": [
      "Source code downloaded to c:\\CUB\\sem2\\ml\\proj\\cn\\starter-student-placement-data-6c88bb86-6.ipynb\n"
     ]
    }
   ],
   "source": [
    "! kaggle kernels pull kerneler/starter-student-placement-data-6c88bb86-6"
   ]
  },
  {
   "cell_type": "code",
   "execution_count": null,
   "metadata": {},
   "outputs": [],
   "source": []
  }
 ],
 "metadata": {
  "kernelspec": {
   "display_name": "base",
   "language": "python",
   "name": "python3"
  },
  "language_info": {
   "codemirror_mode": {
    "name": "ipython",
    "version": 3
   },
   "file_extension": ".py",
   "mimetype": "text/x-python",
   "name": "python",
   "nbconvert_exporter": "python",
   "pygments_lexer": "ipython3",
   "version": "3.12.7"
  }
 },
 "nbformat": 4,
 "nbformat_minor": 2
}
